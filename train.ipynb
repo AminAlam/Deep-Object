{
 "cells": [
  {
   "cell_type": "markdown",
   "id": "f9e4aae3-61b4-4fe2-b7e3-f9939f5ae7f5",
   "metadata": {},
   "source": [
    "### Imports"
   ]
  },
  {
   "cell_type": "code",
   "execution_count": 3,
   "id": "8f87188b-cce1-451a-8d1f-47f961c60dbd",
   "metadata": {},
   "outputs": [],
   "source": [
    "## Libraries\n",
    "import os  # when loading file paths\n",
    "import pandas as pd  # for lookup in annotation file\n",
    "import spacy  # for tokenizer\n",
    "import torch\n",
    "from torch.nn.utils.rnn import pad_sequence  # pad batch\n",
    "from torch.utils.data import DataLoader, Dataset\n",
    "from PIL import Image  # Load img\n",
    "import torchvision.transforms as transforms\n",
    "import torch\n",
    "import torch.nn as nn\n",
    "import statistics\n",
    "import torchvision.models as models\n",
    "import torch\n",
    "import numpy as np\n",
    "from tqdm import tqdm\n",
    "import torch.nn as nn\n",
    "import torch.nn.functional as F\n",
    "import torch.optim as optim\n",
    "import torchvision.transforms as transforms\n",
    "import matplotlib.pyplot as plt\n",
    "\n",
    "## Python Files\n",
    "from utils\n",
    "from datas"
   ]
  },
  {
   "cell_type": "markdown",
   "id": "82d68df1-e8a8-4685-973a-2b2dd43371aa",
   "metadata": {},
   "source": [
    "### Convert silly .mat type to .png images"
   ]
  },
  {
   "cell_type": "code",
   "execution_count": 4,
   "id": "c0350889-4717-4424-a50a-932aa44f3d9d",
   "metadata": {},
   "outputs": [
    {
     "name": "stderr",
     "output_type": "stream",
     "text": [
      "ERROR:root:ERROR: MATLAB type not supported: containers.Map, (uint32)\n"
     ]
    }
   ],
   "source": [
    "utils.convertMat2Png()"
   ]
  },
  {
   "cell_type": "markdown",
   "id": "e89795af-ac4e-45be-b437-45cd4909288b",
   "metadata": {},
   "source": [
    "### Load datas"
   ]
  },
  {
   "cell_type": "code",
   "execution_count": null,
   "id": "0585eb77-f605-4fc7-9aba-668734bfae13",
   "metadata": {},
   "outputs": [],
   "source": []
  }
 ],
 "metadata": {
  "kernelspec": {
   "display_name": "Python [conda env:DL]",
   "language": "python",
   "name": "conda-env-DL-py"
  },
  "language_info": {
   "codemirror_mode": {
    "name": "ipython",
    "version": 3
   },
   "file_extension": ".py",
   "mimetype": "text/x-python",
   "name": "python",
   "nbconvert_exporter": "python",
   "pygments_lexer": "ipython3",
   "version": "3.9.7"
  }
 },
 "nbformat": 4,
 "nbformat_minor": 5
}
